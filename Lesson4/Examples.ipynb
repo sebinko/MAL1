{
 "cells": [
  {
   "cell_type": "code",
   "execution_count": 1,
   "id": "75766378",
   "metadata": {},
   "outputs": [],
   "source": [
    "from sympy import Matrix\n",
    "from sympy import Rational as R"
   ]
  },
  {
   "cell_type": "code",
   "execution_count": 2,
   "id": "88265518",
   "metadata": {},
   "outputs": [
    {
     "data": {
      "text/latex": [
       "$\\displaystyle \\left[\\begin{matrix}0.1 & 0.5 & 0.4 & 0 & 0 & 0\\\\0.2 & 0.3 & 0 & 0.1 & 0.4 & 0\\\\0.1 & 0 & 0.2 & 0 & 0 & 0.7\\\\0 & 0.3 & 0 & 0.2 & 0 & 0.5\\\\0 & 0.4 & 0 & 0 & 0.3 & 0.3\\\\0 & 0 & 0.2 & 0.2 & 0.2 & 0.4\\end{matrix}\\right]$"
      ],
      "text/plain": [
       "Matrix([\n",
       "[0.1, 0.5, 0.4,   0,   0,   0],\n",
       "[0.2, 0.3,   0, 0.1, 0.4,   0],\n",
       "[0.1,   0, 0.2,   0,   0, 0.7],\n",
       "[  0, 0.3,   0, 0.2,   0, 0.5],\n",
       "[  0, 0.4,   0,   0, 0.3, 0.3],\n",
       "[  0,   0, 0.2, 0.2, 0.2, 0.4]])"
      ]
     },
     "execution_count": 2,
     "metadata": {},
     "output_type": "execute_result"
    }
   ],
   "source": [
    "# Ex 1\n",
    "P1 = Matrix([[0.1,0.5,0.4,0,0,0],[0.2,0.3,0.0,0.1,0.4,0],[0.1,0,0.2,0,0,0.7],[0,0.3,0,0.2,0,0.5],[0,0.4,0,0,0.3,0.3],[0,0,0.2,0.2,0.2,0.4]])\n",
    "P1"
   ]
  },
  {
   "cell_type": "code",
   "execution_count": 3,
   "id": "7dcb0ee7",
   "metadata": {},
   "outputs": [
    {
     "data": {
      "text/latex": [
       "$\\displaystyle \\left[\\begin{matrix}0.9 & 0.03 & 0.07\\\\0.1 & 0.7 & 0.2\\\\0.1 & 0.1 & 0.8\\end{matrix}\\right]$"
      ],
      "text/plain": [
       "Matrix([\n",
       "[0.9, 0.03, 0.07],\n",
       "[0.1,  0.7,  0.2],\n",
       "[0.1,  0.1,  0.8]])"
      ]
     },
     "execution_count": 3,
     "metadata": {},
     "output_type": "execute_result"
    }
   ],
   "source": [
    "# Ex 2\n",
    "P2 = Matrix([[0.9,0.03,0.07],[0.1,0.7,0.2],[0.1,0.1,0.8]])\n",
    "P2"
   ]
  },
  {
   "cell_type": "code",
   "execution_count": 5,
   "id": "d545384e",
   "metadata": {},
   "outputs": [
    {
     "data": {
      "text/latex": [
       "$\\displaystyle \\left[\\begin{matrix}0 & 1\\\\\\frac{1}{2} & \\frac{1}{2}\\end{matrix}\\right]$"
      ],
      "text/plain": [
       "Matrix([\n",
       "[  0,   1],\n",
       "[1/2, 1/2]])"
      ]
     },
     "metadata": {},
     "output_type": "display_data"
    },
    {
     "data": {
      "text/latex": [
       "$\\displaystyle \\left[\\begin{matrix}\\frac{3}{8} & \\frac{5}{8}\\end{matrix}\\right]$"
      ],
      "text/plain": [
       "Matrix([[3/8, 5/8]])"
      ]
     },
     "metadata": {},
     "output_type": "display_data"
    },
    {
     "data": {
      "text/latex": [
       "$\\displaystyle \\left[\\begin{matrix}\\frac{3}{8} & \\frac{5}{8}\\\\\\frac{5}{16} & \\frac{11}{16}\\end{matrix}\\right]$"
      ],
      "text/plain": [
       "Matrix([\n",
       "[ 3/8,   5/8],\n",
       "[5/16, 11/16]])"
      ]
     },
     "metadata": {},
     "output_type": "display_data"
    }
   ],
   "source": [
    "# Ex 3\n",
    "# a)\n",
    "P3 = Matrix([[0,1],[R(1,2),R(1,2)]])\n",
    "display(P3)\n",
    "\n",
    "# b)\n",
    "p0 = Matrix([R(1,2),R(1,2)]).T\n",
    "display(p0*P3**2)\n",
    "\n",
    "# c)\n",
    "display(P3**4)\n"
   ]
  },
  {
   "cell_type": "code",
   "execution_count": 6,
   "id": "d6c03390",
   "metadata": {},
   "outputs": [
    {
     "data": {
      "text/latex": [
       "$\\displaystyle \\left[\\begin{matrix}\\frac{1}{2}\\\\\\frac{1}{2}\\end{matrix}\\right]$"
      ],
      "text/plain": [
       "Matrix([\n",
       "[1/2],\n",
       "[1/2]])"
      ]
     },
     "metadata": {},
     "output_type": "display_data"
    },
    {
     "data": {
      "text/latex": [
       "$\\displaystyle \\left[\\begin{matrix}\\frac{1}{2} & \\frac{1}{2}\\end{matrix}\\right]$"
      ],
      "text/plain": [
       "Matrix([[1/2, 1/2]])"
      ]
     },
     "metadata": {},
     "output_type": "display_data"
    },
    {
     "data": {
      "text/latex": [
       "$\\displaystyle \\left[\\begin{matrix}\\frac{1}{2} & \\frac{1}{2}\\end{matrix}\\right]$"
      ],
      "text/plain": [
       "Matrix([[1/2, 1/2]])"
      ]
     },
     "metadata": {},
     "output_type": "display_data"
    }
   ],
   "source": [
    "display(Matrix([R(1,2),R(1,2)]))\n",
    "display(Matrix([[R(1,2),R(1,2)]]))\n",
    "display(Matrix([R(1,2),R(1,2)]).T)"
   ]
  },
  {
   "cell_type": "code",
   "execution_count": 8,
   "id": "f6717400",
   "metadata": {},
   "outputs": [
    {
     "data": {
      "text/latex": [
       "$\\displaystyle \\left[\\begin{matrix}0.7 & 0.2 & 0.1\\\\0.5 & 0.4 & 0.1\\\\0.2 & 0.2 & 0.6\\end{matrix}\\right]$"
      ],
      "text/plain": [
       "Matrix([\n",
       "[0.7, 0.2, 0.1],\n",
       "[0.5, 0.4, 0.1],\n",
       "[0.2, 0.2, 0.6]])"
      ]
     },
     "metadata": {},
     "output_type": "display_data"
    },
    {
     "name": "stdout",
     "output_type": "stream",
     "text": [
      "a)\n"
     ]
    },
    {
     "data": {
      "text/latex": [
       "$\\displaystyle 0.24$"
      ],
      "text/plain": [
       "0.240000000000000"
      ]
     },
     "metadata": {},
     "output_type": "display_data"
    },
    {
     "name": "stdout",
     "output_type": "stream",
     "text": [
      "b)\n"
     ]
    },
    {
     "data": {
      "text/latex": [
       "$\\displaystyle 0.15$"
      ],
      "text/plain": [
       "0.150000000000000"
      ]
     },
     "metadata": {},
     "output_type": "display_data"
    },
    {
     "name": "stdout",
     "output_type": "stream",
     "text": [
      "c)\n"
     ]
    },
    {
     "data": {
      "text/latex": [
       "$\\displaystyle 0.4$"
      ],
      "text/plain": [
       "0.400000000000000"
      ]
     },
     "metadata": {},
     "output_type": "display_data"
    },
    {
     "name": "stdout",
     "output_type": "stream",
     "text": [
      "d)\n"
     ]
    },
    {
     "data": {
      "text/latex": [
       "$\\displaystyle 0.569$"
      ],
      "text/plain": [
       "0.569000000000000"
      ]
     },
     "metadata": {},
     "output_type": "display_data"
    },
    {
     "name": "stdout",
     "output_type": "stream",
     "text": [
      "e)\n"
     ]
    },
    {
     "data": {
      "text/latex": [
       "$\\displaystyle \\left[\\begin{matrix}0.5621 & 0.2504 & 0.1875\\end{matrix}\\right]$"
      ],
      "text/plain": [
       "Matrix([[0.5621, 0.2504, 0.1875]])"
      ]
     },
     "metadata": {},
     "output_type": "display_data"
    }
   ],
   "source": [
    "# Ex 4\n",
    "P4 = Matrix([[0.7,0.2,0.1],[0.5,0.4,0.1],[0.2,0.2,0.6]])\n",
    "display(P4)\n",
    "\n",
    "print('a)')\n",
    "display((P4**2)[0,1])\n",
    "\n",
    "\n",
    "print('b)')\n",
    "display((P4**2)[0,2])\n",
    "\n",
    "print('c)')\n",
    "display((P4**2)[2,2])\n",
    "\n",
    "print('d)')\n",
    "display((P4**3)[1,0])\n",
    "\n",
    "print('e)')\n",
    "p0 = Matrix([0.6, 0.3, 0.1]).T\n",
    "display(p0*P4**3)"
   ]
  },
  {
   "cell_type": "code",
   "execution_count": 9,
   "id": "99bf5927",
   "metadata": {},
   "outputs": [
    {
     "name": "stdout",
     "output_type": "stream",
     "text": [
      "a)\n"
     ]
    },
    {
     "data": {
      "text/latex": [
       "$\\displaystyle 0.65$"
      ],
      "text/plain": [
       "0.650000000000000"
      ]
     },
     "metadata": {},
     "output_type": "display_data"
    },
    {
     "name": "stdout",
     "output_type": "stream",
     "text": [
      "b)\n"
     ]
    },
    {
     "data": {
      "text/latex": [
       "$\\displaystyle 0.15$"
      ],
      "text/plain": [
       "0.150000000000000"
      ]
     },
     "metadata": {},
     "output_type": "display_data"
    },
    {
     "name": "stdout",
     "output_type": "stream",
     "text": [
      "c)\n"
     ]
    },
    {
     "data": {
      "text/latex": [
       "$\\displaystyle 0.2875$"
      ],
      "text/plain": [
       "0.287500000000000"
      ]
     },
     "metadata": {},
     "output_type": "display_data"
    }
   ],
   "source": [
    "# Ex 5\n",
    "P5 = Matrix([[0.3,0.25,0.45],[0.45,0.4,0.15],[0.65,0.25,0.1]])\n",
    "print('a)')\n",
    "display(P5[2,0])\n",
    "\n",
    "print('b)')\n",
    "display(P5[1,2])\n",
    "\n",
    "print('c)')\n",
    "display((P5**2)[0,1])\n"
   ]
  },
  {
   "cell_type": "markdown",
   "id": "32ebd082",
   "metadata": {},
   "source": []
  },
  {
   "cell_type": "code",
   "execution_count": 11,
   "id": "2848c509",
   "metadata": {},
   "outputs": [
    {
     "data": {
      "text/latex": [
       "$\\displaystyle \\left[\\begin{matrix}0.385 & 0.336 & 0.279\\end{matrix}\\right]$"
      ],
      "text/plain": [
       "Matrix([[0.385, 0.336, 0.279]])"
      ]
     },
     "execution_count": 11,
     "metadata": {},
     "output_type": "execute_result"
    }
   ],
   "source": [
    "# Ex 6\n",
    "P6 = Matrix([[0.1,0.5,0.4],[0.6,0.2,0.2],[0.3,0.4,0.3]])\n",
    "p0 = Matrix([0.7, 0.2, 0.1]).T\n",
    "\n",
    "# a)\n",
    "p0*P6**2\n",
    "\n",
    "\n",
    "# b)\n"
   ]
  }
 ],
 "metadata": {
  "kernelspec": {
   "display_name": "Python 3 (ipykernel)",
   "language": "python",
   "name": "python3"
  },
  "language_info": {
   "codemirror_mode": {
    "name": "ipython",
    "version": 3
   },
   "file_extension": ".py",
   "mimetype": "text/x-python",
   "name": "python",
   "nbconvert_exporter": "python",
   "pygments_lexer": "ipython3",
   "version": "3.11.4"
  }
 },
 "nbformat": 4,
 "nbformat_minor": 5
}
