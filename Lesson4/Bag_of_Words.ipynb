{
 "cells": [
  {
   "cell_type": "code",
   "execution_count": 1,
   "id": "711fbd45",
   "metadata": {},
   "outputs": [],
   "source": [
    "import numpy as np\n",
    "import json\n",
    "from sklearn.feature_extraction.text import CountVectorizer\n",
    "from sklearn.model_selection import train_test_split"
   ]
  },
  {
   "cell_type": "code",
   "execution_count": 2,
   "id": "21d81569",
   "metadata": {},
   "outputs": [],
   "source": [
    "with open(\"jokes.json\") as file:\n",
    "    data = json.load(file)"
   ]
  },
  {
   "cell_type": "code",
   "execution_count": 3,
   "id": "474c80db",
   "metadata": {},
   "outputs": [],
   "source": [
    "text = [data[i][\"body\"] for i in range(len(data))]\n",
    "y = [data[i][\"rating\"] for i in range(len(data))]"
   ]
  },
  {
   "cell_type": "code",
   "execution_count": 4,
   "id": "17f84369",
   "metadata": {},
   "outputs": [],
   "source": [
    "text_train, text_test, y_train, y_test = train_test_split(text, y, random_state = 42)\n",
    "\n",
    "y_train = np.array(y_train)\n",
    "y_test = np.array(y_test)\n",
    "\n",
    "vect = CountVectorizer().fit(text_train)\n",
    "X_train = vect.transform(text_train)\n",
    "X_test = vect.transform(text_test)"
   ]
  },
  {
   "cell_type": "code",
   "execution_count": 5,
   "id": "aeca7870",
   "metadata": {},
   "outputs": [
    {
     "data": {
      "text/plain": [
       "array([[0, 0, 0, ..., 1, 1, 0]], shape=(1, 16403))"
      ]
     },
     "execution_count": 5,
     "metadata": {},
     "output_type": "execute_result"
    }
   ],
   "source": [
    "X_train[21].toarray()"
   ]
  },
  {
   "cell_type": "code",
   "execution_count": 6,
   "id": "23c0dd27",
   "metadata": {},
   "outputs": [
    {
     "name": "stdout",
     "output_type": "stream",
     "text": [
      "Picard: Sigma Indri, that's the star,\n",
      "So, Data, please, how far? How far?\n",
      "\n",
      "Data: Our ship can get there very fast\n",
      "But still the trip will last and last\n",
      "We'll have two days 'til we arrive\n",
      "But can the Indrans there survive?\n",
      "\n",
      "Picard: LaForge, please give us factor nine.\n",
      "\n",
      "LaForge: But, sir, the engines are offline!\n",
      "\n",
      "Picard: Offline! But why? I want to go!\n",
      "Please make it so, please make it so!\n",
      "\n",
      "Riker: But sir, if Geordi says we can't,\n",
      "We can't, we mustn't, and we shan't,\n",
      "The danger here is far too great!\n",
      "\n",
      "Picard: But surely we must not be late!\n",
      "\n",
      "Troi: I'm sensing anger and great ire.\n",
      "\n",
      "Computer: Alert! Alert! The ship's on fire!\n",
      "\n",
      "Picard: The ship's on fire? How could this be?\n",
      "Who lit the fire?\n",
      "\n",
      "Riker: Not me...\n",
      "\n",
      "Worf: Not me!\n",
      "\n",
      "Picard: Computer, how long 'til we die?\n",
      "\n",
      "Computer: Eight minutes left to say goodbye.\n",
      "\n",
      "Data: May I suggest a course to take?\n",
      "We could, I think, quite safely make\n",
      "Extinguishers from tractor beams\n",
      "And stop the fire, or so it seems...\n",
      "\n",
      "Geordi: Hurray! Hurray! You've saved the day!\n",
      "Again I say, Hurray! Hurray!\n",
      "\n",
      "Picard: Mr. Data, thank you much.\n",
      "You've saved our lives, our ship, and such.\n",
      "\n",
      "Troi: We still must save the Indran planet --\n",
      "\n",
      "Data: Which (by the way) is made of granite...\n",
      "\n",
      "Picard: Enough, you android. Please desist.\n",
      "We understand -- we get your gist.\n",
      "But can we get our ship to go?\n",
      "Please make it so, PLEASE make it so.\n",
      "\n",
      "Geordi: There's sabotage among the wires\n",
      "And that's what started all the fires.\n",
      "\n",
      "Riker: We have a saboteur? Oh, no!\n",
      "We need to go! We need to go!\n",
      "\n",
      "Troi: We must seek out the traitor spy\n",
      "And lock him up and ask him why?\n",
      "\n",
      "Worf: Ask him why? How sentimental.\n",
      "I say give him problems dental.\n",
      "\n",
      "Troi: Are any Romulan ships around?\n",
      "Have scanners said that they've been found?\n",
      "Or is it Borg or some new threat\n",
      "We haven't even heard of yet?\n",
      "I sense no malice in this crew.\n",
      "Now what are we supposed to do?\n",
      "\n",
      "Crusher: Captain, please, the Indrans need us.\n",
      "They cry out, \"Help us, clothe us, feed us!\"\n",
      "I can't just sit and let them die!\n",
      "A doctor MUST attempt -- MUST try!\n",
      "\n",
      "Picard: Doctor, please, we'll get there soon.\n",
      "\n",
      "Crusher: They may be dead by Tuesday noon.\n",
      "\n",
      "* COMMERCIAL BREAK, COMMERCIAL BREAK *\n",
      "\n",
      "* HOW LONG WILL THESE DUMB ADS TAKE? *\n",
      "\n",
      "Worf: The saboteur is in the brig.\n",
      "He's very strong and very big.\n",
      "I had my phaser set on stun --\n",
      "A zzzip! A zzzap! Another one!\n",
      "He would not budge, he would not fall,\n",
      "He would not stun, no, not at all!\n",
      "He changed into a stranger form\n",
      "All soft and purple, round and warm.\n",
      "\n",
      "Picard: Did you see this, Mr. Worf?\n",
      "Did you see this creature morph?\n",
      "\n",
      "Worf: I did and then I beat him fairly.\n",
      "Hit him on the jaw -- quite squarely.\n",
      "\n",
      "Riker: My commendations, Klingon friend!\n",
      "Our troubles now are at an end!\n",
      "\n",
      "Crusher: Now let's get our ship to fly\n",
      "And orbit yonder Indran sky!\n",
      "\n",
      "Picard: LaForge, please tell me we can go---\n",
      "\n",
      "Geordi: Yes, sir, we can...\n",
      "\n",
      "Picard: Then make it so!\n"
     ]
    }
   ],
   "source": [
    "print(text_train[21])"
   ]
  },
  {
   "cell_type": "code",
   "execution_count": null,
   "id": "f79944a7-0eaa-43a5-9cf9-2c916fbd9313",
   "metadata": {},
   "outputs": [],
   "source": []
  }
 ],
 "metadata": {
  "kernelspec": {
   "display_name": ".venv",
   "language": "python",
   "name": "python3"
  },
  "language_info": {
   "codemirror_mode": {
    "name": "ipython",
    "version": 3
   },
   "file_extension": ".py",
   "mimetype": "text/x-python",
   "name": "python",
   "nbconvert_exporter": "python",
   "pygments_lexer": "ipython3",
   "version": "3.13.3"
  }
 },
 "nbformat": 4,
 "nbformat_minor": 5
}
